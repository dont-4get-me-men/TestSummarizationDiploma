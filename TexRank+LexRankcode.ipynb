{
 "cells": [
  {
   "cell_type": "code",
   "execution_count": 15,
   "id": "cec2ef83-b776-45fe-8353-5f1f4e6d1272",
   "metadata": {},
   "outputs": [],
   "source": [
    "from rouge_score import rouge_scorer"
   ]
  },
  {
   "cell_type": "code",
   "execution_count": 4,
   "id": "55cbf5c1-06fa-4844-a6d0-9cc18e5bb61f",
   "metadata": {},
   "outputs": [
    {
     "name": "stderr",
     "output_type": "stream",
     "text": [
      "C:\\Users\\ryzhk\\AppData\\Local\\Temp\\ipykernel_740\\4037459634.py:5: TqdmDeprecationWarning: This function will be removed in tqdm==5.0.0\n",
      "Please use `tqdm.notebook.*` instead of `tqdm._tqdm_notebook.*`\n",
      "  from tqdm._tqdm_notebook import tqdm_notebook\n",
      "[nltk_data] Downloading package punkt to\n",
      "[nltk_data]     C:\\Users\\ryzhk\\AppData\\Roaming\\nltk_data...\n",
      "[nltk_data]   Unzipping tokenizers\\punkt.zip.\n",
      "[nltk_data] Downloading package stopwords to\n",
      "[nltk_data]     C:\\Users\\ryzhk\\AppData\\Roaming\\nltk_data...\n",
      "[nltk_data]   Unzipping corpora\\stopwords.zip.\n"
     ]
    },
    {
     "data": {
      "text/plain": [
       "True"
      ]
     },
     "execution_count": 4,
     "metadata": {},
     "output_type": "execute_result"
    }
   ],
   "source": [
    "import pandas as pd \n",
    "import numpy as np\n",
    "import nltk\n",
    "from nltk.corpus import stopwords\n",
    "from tqdm._tqdm_notebook import tqdm_notebook\n",
    "import warnings\n",
    "from nltk.tokenize import sent_tokenize\n",
    "\n",
    "nltk.download('punkt')\n",
    "warnings.filterwarnings('ignore')\n",
    "tqdm_notebook.pandas()\n",
    "nltk.download('stopwords')\n"
   ]
  },
  {
   "cell_type": "code",
   "execution_count": 8,
   "id": "69405a3b-f0bb-480b-af9b-9fbb704291f0",
   "metadata": {},
   "outputs": [],
   "source": [
    "df = pd.read_csv('bi-lstm-result.csv')"
   ]
  },
  {
   "cell_type": "code",
   "execution_count": 16,
   "id": "3dc4a416-fc7f-43b2-93a8-3dacf5146545",
   "metadata": {},
   "outputs": [],
   "source": [
    "rouge_metrics = rouge_scorer.RougeScorer(['rouge1', 'rougeL','rouge2'], use_stemmer=True)"
   ]
  },
  {
   "cell_type": "code",
   "execution_count": 12,
   "id": "abbf2b52-a877-4aba-a3e8-d2868a96cfee",
   "metadata": {},
   "outputs": [
    {
     "data": {
      "text/html": [
       "<div>\n",
       "<style scoped>\n",
       "    .dataframe tbody tr th:only-of-type {\n",
       "        vertical-align: middle;\n",
       "    }\n",
       "\n",
       "    .dataframe tbody tr th {\n",
       "        vertical-align: top;\n",
       "    }\n",
       "\n",
       "    .dataframe thead th {\n",
       "        text-align: right;\n",
       "    }\n",
       "</style>\n",
       "<table border=\"1\" class=\"dataframe\">\n",
       "  <thead>\n",
       "    <tr style=\"text-align: right;\">\n",
       "      <th></th>\n",
       "      <th>Article</th>\n",
       "      <th>Original Summary</th>\n",
       "      <th>Model Output</th>\n",
       "    </tr>\n",
       "  </thead>\n",
       "  <tbody>\n",
       "    <tr>\n",
       "      <th>0</th>\n",
       "      <td>Ever noticed how plane seats appear to be gett...</td>\n",
       "      <td>Experts question if  packed out planes are put...</td>\n",
       "      <td>the airline s air force force force force for...</td>\n",
       "    </tr>\n",
       "    <tr>\n",
       "      <th>1</th>\n",
       "      <td>A drunk teenage boy had to be rescued by secur...</td>\n",
       "      <td>Drunk teenage boy climbed into lion enclosure ...</td>\n",
       "      <td>the man was caught by a man in a south africa...</td>\n",
       "    </tr>\n",
       "    <tr>\n",
       "      <th>2</th>\n",
       "      <td>Dougie Freedman is on the verge of agreeing a ...</td>\n",
       "      <td>Nottingham Forest are close to extending Dougi...</td>\n",
       "      <td>the club s owner has been a new contract for ...</td>\n",
       "    </tr>\n",
       "    <tr>\n",
       "      <th>3</th>\n",
       "      <td>Liverpool target Neto is also wanted by PSG an...</td>\n",
       "      <td>Fiorentina goalkeeper Neto has been linked wit...</td>\n",
       "      <td>the italian striker has been a move to the cl...</td>\n",
       "    </tr>\n",
       "    <tr>\n",
       "      <th>4</th>\n",
       "      <td>Bruce Jenner will break his silence in a two-h...</td>\n",
       "      <td>Tell-all interview with the reality TV star, 6...</td>\n",
       "      <td>the former star was a new york for the first ...</td>\n",
       "    </tr>\n",
       "  </tbody>\n",
       "</table>\n",
       "</div>"
      ],
      "text/plain": [
       "                                             Article  \\\n",
       "0  Ever noticed how plane seats appear to be gett...   \n",
       "1  A drunk teenage boy had to be rescued by secur...   \n",
       "2  Dougie Freedman is on the verge of agreeing a ...   \n",
       "3  Liverpool target Neto is also wanted by PSG an...   \n",
       "4  Bruce Jenner will break his silence in a two-h...   \n",
       "\n",
       "                                    Original Summary  \\\n",
       "0  Experts question if  packed out planes are put...   \n",
       "1  Drunk teenage boy climbed into lion enclosure ...   \n",
       "2  Nottingham Forest are close to extending Dougi...   \n",
       "3  Fiorentina goalkeeper Neto has been linked wit...   \n",
       "4  Tell-all interview with the reality TV star, 6...   \n",
       "\n",
       "                                        Model Output  \n",
       "0   the airline s air force force force force for...  \n",
       "1   the man was caught by a man in a south africa...  \n",
       "2   the club s owner has been a new contract for ...  \n",
       "3   the italian striker has been a move to the cl...  \n",
       "4   the former star was a new york for the first ...  "
      ]
     },
     "execution_count": 12,
     "metadata": {},
     "output_type": "execute_result"
    }
   ],
   "source": [
    "df.head()"
   ]
  },
  {
   "cell_type": "code",
   "execution_count": 14,
   "id": "7163be2d-174f-4fa6-a773-a538922af31f",
   "metadata": {},
   "outputs": [
    {
     "data": {
      "text/plain": [
       "' the dog was taken to the hospital in the south africa the south africa was a local of the wildlife park in the south africa the south africa was a local of the wildlife park in the area of the park'"
      ]
     },
     "execution_count": 14,
     "metadata": {},
     "output_type": "execute_result"
    }
   ],
   "source": [
    "df['Model Output'][5]"
   ]
  },
  {
   "cell_type": "code",
   "execution_count": 56,
   "id": "8e3b5cda-fda6-4da6-8b77-527dfd325c1d",
   "metadata": {},
   "outputs": [
    {
     "name": "stdout",
     "output_type": "stream",
     "text": [
      "Bishop John Folda, of North Dakota, is taking time off after being diagnosed .\n",
      "He contracted the infection through contaminated food in Italy .\n",
      "Church members in Fargo, Grand Forks and Jamestown could have been exposed .\n"
     ]
    }
   ],
   "source": [
    "print(df['highlights'][0])"
   ]
  },
  {
   "cell_type": "code",
   "execution_count": 57,
   "id": "57f86f33-00f8-4334-bf1f-e42272df7520",
   "metadata": {},
   "outputs": [
    {
     "data": {
      "text/plain": [
       "(287113, 3)"
      ]
     },
     "execution_count": 57,
     "metadata": {},
     "output_type": "execute_result"
    }
   ],
   "source": [
    "df.shape"
   ]
  },
  {
   "cell_type": "code",
   "execution_count": 67,
   "id": "33aab0e5-ae2f-44fe-a4bf-11a6b1124a8f",
   "metadata": {},
   "outputs": [],
   "source": [
    "df_need = df[:1000]"
   ]
  },
  {
   "cell_type": "code",
   "execution_count": null,
   "id": "0ef3c509-fe35-4129-9751-19df694ce438",
   "metadata": {},
   "outputs": [],
   "source": [
    "PERCENT_RATIO = 0.2\n",
    "STOPWORDS = stopwords.words('english')"
   ]
  },
  {
   "cell_type": "markdown",
   "id": "5c066564-e9e7-423a-9316-a2f14e8f509c",
   "metadata": {},
   "source": [
    "#### text rank"
   ]
  },
  {
   "cell_type": "code",
   "execution_count": null,
   "id": "2558029d-5a86-479c-ae8d-6cc69a863ed9",
   "metadata": {},
   "outputs": [],
   "source": [
    "from summa.summarizer import summarize as textRankSumm"
   ]
  },
  {
   "cell_type": "code",
   "execution_count": 78,
   "id": "f21ffa97-e3a3-4196-9886-411a59e9e61b",
   "metadata": {},
   "outputs": [
    {
     "data": {
      "application/vnd.jupyter.widget-view+json": {
       "model_id": "62521229a6bd472dafbdb7c931d44850",
       "version_major": 2,
       "version_minor": 0
      },
      "text/plain": [
       "  0%|          | 0/1000 [00:00<?, ?it/s]"
      ]
     },
     "metadata": {},
     "output_type": "display_data"
    }
   ],
   "source": [
    "df_need['text_rank'] = df_need['article'].progress_apply(lambda x:summarize(x,ratio = PERCENT_RATIO,additional_stopwords = STOPWORDS))"
   ]
  },
  {
   "cell_type": "markdown",
   "id": "329419ff-d896-440b-a535-903fc309e9e7",
   "metadata": {},
   "source": [
    "#### LexRank"
   ]
  },
  {
   "cell_type": "code",
   "execution_count": 124,
   "id": "150f377c-a6c5-4408-8ed4-6d411b5c7656",
   "metadata": {},
   "outputs": [],
   "source": [
    "from lexrank import LexRank\n",
    "\n",
    "lxr = LexRank(df_need['article'],stopwords=STOPWORDS)\n",
    "df_need['article_sentences'] = df_need['article'].apply(lambda x:sent_tokenize(x))\n"
   ]
  },
  {
   "cell_type": "code",
   "execution_count": 127,
   "id": "d1aad5b8-0577-476e-a6ad-87bffc44216b",
   "metadata": {},
   "outputs": [
    {
     "data": {
      "application/vnd.jupyter.widget-view+json": {
       "model_id": "88bbc39821084189bbb6135258a2bac0",
       "version_major": 2,
       "version_minor": 0
      },
      "text/plain": [
       "  0%|          | 0/1000 [00:00<?, ?it/s]"
      ]
     },
     "metadata": {},
     "output_type": "display_data"
    }
   ],
   "source": [
    "df_need['lex_rank'] = df_need['article_sentences']\\\n",
    ".progress_apply(lambda x: lxr\\\n",
    "                .get_summary(x,\n",
    "                             summary_size=round(PERCENT_RATIO*len(x))\n",
    "                            )\n",
    "               )"
   ]
  },
  {
   "cell_type": "code",
   "execution_count": 128,
   "id": "2cd5743c-cfef-4591-bec8-38badb0a86fc",
   "metadata": {},
   "outputs": [],
   "source": [
    "def connect(x:list[str])->str:\n",
    "    return ''.join(x)\n",
    "\n",
    "df_need['lex_rank'] = df_need['lex_rank'].apply(conect)"
   ]
  },
  {
   "cell_type": "markdown",
   "id": "b13a48a0-e2ef-4835-8704-2e7b23649198",
   "metadata": {},
   "source": [
    "#### Evaluate\n",
    "\n"
   ]
  },
  {
   "cell_type": "code",
   "execution_count": 134,
   "id": "b9bd0b95-cd43-40e3-9900-b2f46e67c94d",
   "metadata": {},
   "outputs": [
    {
     "name": "stdout",
     "output_type": "stream",
     "text": [
      "The bishop of the Fargo Catholic Diocese in North Dakota has exposed potentially hundreds of church members in Fargo, Grand Forks and Jamestown to the hepatitis A virus in late September and early October.\n",
      "Bishop John Folda (pictured) of the Fargo Catholic Diocese in North Dakota has exposed potentially hundreds of church members in Fargo, Grand Forks and Jamestown to the hepatitis A . \n",
      "\n",
      " Bishop John Folda, of North Dakota, is taking time off after being diagnosed .\n",
      "He contracted the infection through contaminated food in Italy .\n",
      "Church members in Fargo, Grand Forks and Jamestown could have been exposed .\n"
     ]
    }
   ],
   "source": [
    "print(df_need['text_rank'][0],'\\n\\n',df_need['highlights'][0])"
   ]
  },
  {
   "cell_type": "code",
   "execution_count": 141,
   "id": "8927ff59-3dad-4626-8ce6-41f29b0bfb6d",
   "metadata": {},
   "outputs": [],
   "source": [
    "abba = rouge_metrics.score(df_need['highlights'][0],df_need['text_rank'][0])"
   ]
  },
  {
   "cell_type": "code",
   "execution_count": 144,
   "id": "e85de109-fe1b-4fe2-b558-94ad3a78fc86",
   "metadata": {},
   "outputs": [
    {
     "data": {
      "text/plain": [
       "0.28865979381443296"
      ]
     },
     "execution_count": 144,
     "metadata": {},
     "output_type": "execute_result"
    }
   ],
   "source": [
    "abba['rougeL'].fmeasure"
   ]
  },
  {
   "cell_type": "code",
   "execution_count": 153,
   "id": "aa709032-92a4-49c2-8eb5-89b3fca78f26",
   "metadata": {},
   "outputs": [
    {
     "data": {
      "text/plain": [
       "Index(['id', 'article', 'highlights', 'text_rank', 'article_sentences',\n",
       "       'lex_rank'],\n",
       "      dtype='object')"
      ]
     },
     "execution_count": 153,
     "metadata": {},
     "output_type": "execute_result"
    }
   ],
   "source": [
    "df_need.columns"
   ]
  },
  {
   "cell_type": "code",
   "execution_count": 164,
   "id": "e45d472d-2d4b-40d9-b8f4-2768a2ca1eb4",
   "metadata": {},
   "outputs": [],
   "source": [
    "\n",
    "df_need['text_rank_scores'] = df_need[['highlights','text_rank']]\\\n",
    ".apply(lambda x: rouge_metrics.score(x['highlights'],x['text_rank'])['rougeL'].fmeasure,axis = 1)\n",
    "\n",
    "df_need['lex_rank_scores'] = df_need[['highlights','lex_rank']]\\\n",
    ".apply(lambda x: rouge_metrics.score(x['highlights'],x['lex_rank'])['rougeL'].fmeasure,axis = 1)"
   ]
  },
  {
   "cell_type": "code",
   "execution_count": 162,
   "id": "794d5d5d-3ec2-468a-bf08-a7817d9d8ca2",
   "metadata": {},
   "outputs": [
    {
     "data": {
      "text/plain": [
       "0      0.288660\n",
       "1      0.126582\n",
       "2      0.224924\n",
       "3      0.119403\n",
       "4      0.099099\n",
       "         ...   \n",
       "995    0.140000\n",
       "996    0.176166\n",
       "997    0.194175\n",
       "998    0.283333\n",
       "999    0.183673\n",
       "Name: text_rank_scores, Length: 1000, dtype: float64"
      ]
     },
     "execution_count": 162,
     "metadata": {},
     "output_type": "execute_result"
    }
   ],
   "source": [
    "df_need['text_rank_scores']"
   ]
  },
  {
   "cell_type": "code",
   "execution_count": 165,
   "id": "a047c451-85e8-424d-9f94-4c1c42fca039",
   "metadata": {},
   "outputs": [
    {
     "data": {
      "text/plain": [
       "0      0.241379\n",
       "1      0.189189\n",
       "2      0.139394\n",
       "3      0.216749\n",
       "4      0.118644\n",
       "         ...   \n",
       "995    0.126984\n",
       "996    0.251429\n",
       "997    0.202899\n",
       "998    0.216216\n",
       "999    0.234234\n",
       "Name: lex_rank_scores, Length: 1000, dtype: float64"
      ]
     },
     "execution_count": 165,
     "metadata": {},
     "output_type": "execute_result"
    }
   ],
   "source": [
    "df_need['lex_rank_scores'] "
   ]
  },
  {
   "cell_type": "code",
   "execution_count": 31,
   "id": "29b46212-30ba-4f0d-9f0c-405006f2d189",
   "metadata": {},
   "outputs": [
    {
     "name": "stdout",
     "output_type": "stream",
     "text": [
      "Collecting scipy\n",
      "  Downloading scipy-1.13.0-cp312-cp312-win_amd64.whl.metadata (60 kB)\n",
      "     ---------------------------------------- 0.0/60.6 kB ? eta -:--:--\n",
      "     ------ --------------------------------- 10.2/60.6 kB ? eta -:--:--\n",
      "     ------------ ------------------------- 20.5/60.6 kB 162.5 kB/s eta 0:00:01\n",
      "     ------------------------- ------------ 41.0/60.6 kB 281.8 kB/s eta 0:00:01\n",
      "     -------------------------------------- 60.6/60.6 kB 357.0 kB/s eta 0:00:00\n",
      "Requirement already satisfied: numpy<2.3,>=1.22.4 in c:\\users\\ryzhk\\appdata\\local\\programs\\python\\python312\\lib\\site-packages (from scipy) (1.26.4)\n",
      "Downloading scipy-1.13.0-cp312-cp312-win_amd64.whl (45.9 MB)\n",
      "   ---------------------------------------- 0.0/45.9 MB ? eta -:--:--\n",
      "   ---------------------------------------- 0.1/45.9 MB 1.3 MB/s eta 0:00:36\n",
      "   ---------------------------------------- 0.2/45.9 MB 2.1 MB/s eta 0:00:22\n",
      "   ---------------------------------------- 0.3/45.9 MB 2.1 MB/s eta 0:00:22\n",
      "   ---------------------------------------- 0.4/45.9 MB 1.9 MB/s eta 0:00:25\n",
      "   ---------------------------------------- 0.5/45.9 MB 2.0 MB/s eta 0:00:23\n",
      "    --------------------------------------- 0.6/45.9 MB 2.1 MB/s eta 0:00:22\n",
      "    --------------------------------------- 0.7/45.9 MB 2.2 MB/s eta 0:00:21\n",
      "    --------------------------------------- 0.9/45.9 MB 2.4 MB/s eta 0:00:19\n",
      "    --------------------------------------- 1.0/45.9 MB 2.5 MB/s eta 0:00:19\n",
      "   - -------------------------------------- 1.2/45.9 MB 2.4 MB/s eta 0:00:19\n",
      "   - -------------------------------------- 1.3/45.9 MB 2.6 MB/s eta 0:00:18\n",
      "   - -------------------------------------- 1.4/45.9 MB 2.5 MB/s eta 0:00:18\n",
      "   - -------------------------------------- 1.5/45.9 MB 2.5 MB/s eta 0:00:18\n",
      "   - -------------------------------------- 1.6/45.9 MB 2.6 MB/s eta 0:00:18\n",
      "   - -------------------------------------- 1.8/45.9 MB 2.6 MB/s eta 0:00:17\n",
      "   - -------------------------------------- 1.8/45.9 MB 2.5 MB/s eta 0:00:18\n",
      "   - -------------------------------------- 1.9/45.9 MB 2.5 MB/s eta 0:00:18\n",
      "   - -------------------------------------- 2.1/45.9 MB 2.5 MB/s eta 0:00:18\n",
      "   - -------------------------------------- 2.2/45.9 MB 2.5 MB/s eta 0:00:18\n",
      "   - -------------------------------------- 2.2/45.9 MB 2.5 MB/s eta 0:00:18\n",
      "   -- ------------------------------------- 2.4/45.9 MB 2.4 MB/s eta 0:00:18\n",
      "   -- ------------------------------------- 2.5/45.9 MB 2.5 MB/s eta 0:00:18\n",
      "   -- ------------------------------------- 2.7/45.9 MB 2.5 MB/s eta 0:00:18\n",
      "   -- ------------------------------------- 2.8/45.9 MB 2.5 MB/s eta 0:00:18\n",
      "   -- ------------------------------------- 2.9/45.9 MB 2.5 MB/s eta 0:00:18\n",
      "   -- ------------------------------------- 3.1/45.9 MB 2.5 MB/s eta 0:00:17\n",
      "   -- ------------------------------------- 3.2/45.9 MB 2.5 MB/s eta 0:00:17\n",
      "   -- ------------------------------------- 3.3/45.9 MB 2.6 MB/s eta 0:00:17\n",
      "   -- ------------------------------------- 3.4/45.9 MB 2.6 MB/s eta 0:00:17\n",
      "   --- ------------------------------------ 3.6/45.9 MB 2.6 MB/s eta 0:00:17\n",
      "   --- ------------------------------------ 3.7/45.9 MB 2.6 MB/s eta 0:00:17\n",
      "   --- ------------------------------------ 3.8/45.9 MB 2.6 MB/s eta 0:00:17\n",
      "   --- ------------------------------------ 4.0/45.9 MB 2.6 MB/s eta 0:00:17\n",
      "   --- ------------------------------------ 4.1/45.9 MB 2.6 MB/s eta 0:00:17\n",
      "   --- ------------------------------------ 4.2/45.9 MB 2.6 MB/s eta 0:00:16\n",
      "   --- ------------------------------------ 4.3/45.9 MB 2.6 MB/s eta 0:00:16\n",
      "   --- ------------------------------------ 4.4/45.9 MB 2.5 MB/s eta 0:00:17\n",
      "   --- ------------------------------------ 4.4/45.9 MB 2.5 MB/s eta 0:00:17\n",
      "   --- ------------------------------------ 4.5/45.9 MB 2.5 MB/s eta 0:00:17\n",
      "   --- ------------------------------------ 4.6/45.9 MB 2.5 MB/s eta 0:00:17\n",
      "   ---- ----------------------------------- 4.6/45.9 MB 2.5 MB/s eta 0:00:17\n",
      "   ---- ----------------------------------- 4.7/45.9 MB 2.4 MB/s eta 0:00:17\n",
      "   ---- ----------------------------------- 4.8/45.9 MB 2.4 MB/s eta 0:00:17\n",
      "   ---- ----------------------------------- 4.8/45.9 MB 2.4 MB/s eta 0:00:18\n",
      "   ---- ----------------------------------- 4.9/45.9 MB 2.3 MB/s eta 0:00:18\n",
      "   ---- ----------------------------------- 4.9/45.9 MB 2.3 MB/s eta 0:00:18\n",
      "   ---- ----------------------------------- 5.0/45.9 MB 2.3 MB/s eta 0:00:18\n",
      "   ---- ----------------------------------- 5.0/45.9 MB 2.3 MB/s eta 0:00:18\n",
      "   ---- ----------------------------------- 5.1/45.9 MB 2.2 MB/s eta 0:00:19\n",
      "   ---- ----------------------------------- 5.1/45.9 MB 2.2 MB/s eta 0:00:19\n",
      "   ---- ----------------------------------- 5.2/45.9 MB 2.2 MB/s eta 0:00:19\n",
      "   ---- ----------------------------------- 5.3/45.9 MB 2.2 MB/s eta 0:00:19\n",
      "   ---- ----------------------------------- 5.4/45.9 MB 2.2 MB/s eta 0:00:19\n",
      "   ---- ----------------------------------- 5.4/45.9 MB 2.2 MB/s eta 0:00:19\n",
      "   ---- ----------------------------------- 5.6/45.9 MB 2.2 MB/s eta 0:00:19\n",
      "   ---- ----------------------------------- 5.7/45.9 MB 2.2 MB/s eta 0:00:19\n",
      "   ----- ---------------------------------- 5.9/45.9 MB 2.2 MB/s eta 0:00:19\n",
      "   ----- ---------------------------------- 6.0/45.9 MB 2.2 MB/s eta 0:00:18\n",
      "   ----- ---------------------------------- 6.1/45.9 MB 2.3 MB/s eta 0:00:18\n",
      "   ----- ---------------------------------- 6.3/45.9 MB 2.3 MB/s eta 0:00:18\n",
      "   ----- ---------------------------------- 6.4/45.9 MB 2.3 MB/s eta 0:00:18\n",
      "   ----- ---------------------------------- 6.6/45.9 MB 2.3 MB/s eta 0:00:18\n",
      "   ----- ---------------------------------- 6.7/45.9 MB 2.3 MB/s eta 0:00:18\n",
      "   ----- ---------------------------------- 6.8/45.9 MB 2.3 MB/s eta 0:00:17\n",
      "   ------ --------------------------------- 7.0/45.9 MB 2.3 MB/s eta 0:00:17\n",
      "   ------ --------------------------------- 7.1/45.9 MB 2.3 MB/s eta 0:00:17\n",
      "   ------ --------------------------------- 7.3/45.9 MB 2.3 MB/s eta 0:00:17\n",
      "   ------ --------------------------------- 7.4/45.9 MB 2.4 MB/s eta 0:00:17\n",
      "   ------ --------------------------------- 7.5/45.9 MB 2.4 MB/s eta 0:00:17\n",
      "   ------ --------------------------------- 7.7/45.9 MB 2.4 MB/s eta 0:00:17\n",
      "   ------ --------------------------------- 7.8/45.9 MB 2.4 MB/s eta 0:00:17\n",
      "   ------ --------------------------------- 8.0/45.9 MB 2.4 MB/s eta 0:00:16\n",
      "   ------- -------------------------------- 8.1/45.9 MB 2.4 MB/s eta 0:00:16\n",
      "   ------- -------------------------------- 8.2/45.9 MB 2.4 MB/s eta 0:00:16\n",
      "   ------- -------------------------------- 8.4/45.9 MB 2.4 MB/s eta 0:00:16\n",
      "   ------- -------------------------------- 8.5/45.9 MB 2.4 MB/s eta 0:00:16\n",
      "   ------- -------------------------------- 8.6/45.9 MB 2.4 MB/s eta 0:00:16\n",
      "   ------- -------------------------------- 8.8/45.9 MB 2.4 MB/s eta 0:00:16\n",
      "   ------- -------------------------------- 8.9/45.9 MB 2.4 MB/s eta 0:00:16\n",
      "   ------- -------------------------------- 9.0/45.9 MB 2.4 MB/s eta 0:00:16\n",
      "   ------- -------------------------------- 9.2/45.9 MB 2.4 MB/s eta 0:00:16\n",
      "   -------- ------------------------------- 9.3/45.9 MB 2.4 MB/s eta 0:00:15\n",
      "   -------- ------------------------------- 9.4/45.9 MB 2.4 MB/s eta 0:00:15\n",
      "   -------- ------------------------------- 9.6/45.9 MB 2.5 MB/s eta 0:00:15\n",
      "   -------- ------------------------------- 9.7/45.9 MB 2.5 MB/s eta 0:00:15\n",
      "   -------- ------------------------------- 9.8/45.9 MB 2.5 MB/s eta 0:00:15\n",
      "   -------- ------------------------------- 10.0/45.9 MB 2.5 MB/s eta 0:00:15\n",
      "   -------- ------------------------------- 10.1/45.9 MB 2.5 MB/s eta 0:00:15\n",
      "   -------- ------------------------------- 10.2/45.9 MB 2.5 MB/s eta 0:00:15\n",
      "   -------- ------------------------------- 10.3/45.9 MB 2.5 MB/s eta 0:00:15\n",
      "   --------- ------------------------------ 10.5/45.9 MB 2.5 MB/s eta 0:00:15\n",
      "   --------- ------------------------------ 10.6/45.9 MB 2.5 MB/s eta 0:00:15\n",
      "   --------- ------------------------------ 10.7/45.9 MB 2.5 MB/s eta 0:00:14\n",
      "   --------- ------------------------------ 10.9/45.9 MB 2.5 MB/s eta 0:00:14\n",
      "   --------- ------------------------------ 11.0/45.9 MB 2.5 MB/s eta 0:00:14\n",
      "   --------- ------------------------------ 11.2/45.9 MB 2.5 MB/s eta 0:00:14\n",
      "   --------- ------------------------------ 11.3/45.9 MB 2.5 MB/s eta 0:00:14\n",
      "   --------- ------------------------------ 11.4/45.9 MB 2.5 MB/s eta 0:00:14\n",
      "   ---------- ----------------------------- 11.5/45.9 MB 2.5 MB/s eta 0:00:14\n",
      "   ---------- ----------------------------- 11.6/45.9 MB 2.5 MB/s eta 0:00:14\n",
      "   ---------- ----------------------------- 11.8/45.9 MB 2.5 MB/s eta 0:00:14\n",
      "   ---------- ----------------------------- 11.9/45.9 MB 2.5 MB/s eta 0:00:14\n",
      "   ---------- ----------------------------- 12.0/45.9 MB 2.5 MB/s eta 0:00:14\n",
      "   ---------- ----------------------------- 12.1/45.9 MB 2.5 MB/s eta 0:00:14\n",
      "   ---------- ----------------------------- 12.3/45.9 MB 2.5 MB/s eta 0:00:14\n",
      "   ---------- ----------------------------- 12.4/45.9 MB 2.5 MB/s eta 0:00:14\n",
      "   ---------- ----------------------------- 12.5/45.9 MB 2.6 MB/s eta 0:00:14\n",
      "   ----------- ---------------------------- 12.6/45.9 MB 2.5 MB/s eta 0:00:14\n",
      "   ----------- ---------------------------- 12.8/45.9 MB 2.5 MB/s eta 0:00:14\n",
      "   ----------- ---------------------------- 12.9/45.9 MB 2.5 MB/s eta 0:00:13\n",
      "   ----------- ---------------------------- 13.0/45.9 MB 2.6 MB/s eta 0:00:13\n",
      "   ----------- ---------------------------- 13.2/45.9 MB 2.5 MB/s eta 0:00:13\n",
      "   ----------- ---------------------------- 13.3/45.9 MB 2.6 MB/s eta 0:00:13\n",
      "   ----------- ---------------------------- 13.4/45.9 MB 2.6 MB/s eta 0:00:13\n",
      "   ----------- ---------------------------- 13.6/45.9 MB 2.6 MB/s eta 0:00:13\n",
      "   ----------- ---------------------------- 13.7/45.9 MB 2.6 MB/s eta 0:00:13\n",
      "   ------------ --------------------------- 13.9/45.9 MB 2.6 MB/s eta 0:00:13\n",
      "   ------------ --------------------------- 14.0/45.9 MB 2.6 MB/s eta 0:00:13\n",
      "   ------------ --------------------------- 14.1/45.9 MB 2.6 MB/s eta 0:00:13\n",
      "   ------------ --------------------------- 14.2/45.9 MB 2.5 MB/s eta 0:00:13\n",
      "   ------------ --------------------------- 14.3/45.9 MB 2.5 MB/s eta 0:00:13\n",
      "   ------------ --------------------------- 14.4/45.9 MB 2.5 MB/s eta 0:00:13\n",
      "   ------------ --------------------------- 14.4/45.9 MB 2.5 MB/s eta 0:00:13\n",
      "   ------------ --------------------------- 14.6/45.9 MB 2.5 MB/s eta 0:00:13\n",
      "   ------------ --------------------------- 14.7/45.9 MB 2.5 MB/s eta 0:00:13\n",
      "   ------------ --------------------------- 14.8/45.9 MB 2.6 MB/s eta 0:00:13\n",
      "   ------------- -------------------------- 14.9/45.9 MB 2.6 MB/s eta 0:00:12\n",
      "   ------------- -------------------------- 15.1/45.9 MB 2.7 MB/s eta 0:00:12\n",
      "   ------------- -------------------------- 15.2/45.9 MB 2.7 MB/s eta 0:00:12\n",
      "   ------------- -------------------------- 15.3/45.9 MB 2.8 MB/s eta 0:00:12\n",
      "   ------------- -------------------------- 15.5/45.9 MB 2.8 MB/s eta 0:00:11\n",
      "   ------------- -------------------------- 15.6/45.9 MB 2.8 MB/s eta 0:00:11\n",
      "   ------------- -------------------------- 15.7/45.9 MB 2.8 MB/s eta 0:00:11\n",
      "   ------------- -------------------------- 15.9/45.9 MB 2.8 MB/s eta 0:00:11\n",
      "   ------------- -------------------------- 16.0/45.9 MB 2.8 MB/s eta 0:00:11\n",
      "   -------------- ------------------------- 16.2/45.9 MB 2.8 MB/s eta 0:00:11\n",
      "   -------------- ------------------------- 16.3/45.9 MB 2.8 MB/s eta 0:00:11\n",
      "   -------------- ------------------------- 16.4/45.9 MB 2.8 MB/s eta 0:00:11\n",
      "   -------------- ------------------------- 16.6/45.9 MB 2.8 MB/s eta 0:00:11\n",
      "   -------------- ------------------------- 16.7/45.9 MB 2.8 MB/s eta 0:00:11\n",
      "   -------------- ------------------------- 16.8/45.9 MB 2.8 MB/s eta 0:00:11\n",
      "   -------------- ------------------------- 17.0/45.9 MB 2.8 MB/s eta 0:00:11\n",
      "   -------------- ------------------------- 17.1/45.9 MB 2.8 MB/s eta 0:00:11\n",
      "   -------------- ------------------------- 17.2/45.9 MB 2.8 MB/s eta 0:00:11\n",
      "   --------------- ------------------------ 17.4/45.9 MB 2.8 MB/s eta 0:00:11\n",
      "   --------------- ------------------------ 17.5/45.9 MB 2.8 MB/s eta 0:00:11\n",
      "   --------------- ------------------------ 17.6/45.9 MB 2.8 MB/s eta 0:00:11\n",
      "   --------------- ------------------------ 17.8/45.9 MB 2.8 MB/s eta 0:00:11\n",
      "   --------------- ------------------------ 17.9/45.9 MB 2.8 MB/s eta 0:00:10\n",
      "   --------------- ------------------------ 18.1/45.9 MB 2.8 MB/s eta 0:00:10\n",
      "   --------------- ------------------------ 18.2/45.9 MB 2.8 MB/s eta 0:00:10\n",
      "   --------------- ------------------------ 18.3/45.9 MB 2.8 MB/s eta 0:00:10\n",
      "   ---------------- ----------------------- 18.5/45.9 MB 2.8 MB/s eta 0:00:10\n",
      "   ---------------- ----------------------- 18.6/45.9 MB 2.8 MB/s eta 0:00:10\n",
      "   ---------------- ----------------------- 18.7/45.9 MB 2.8 MB/s eta 0:00:10\n",
      "   ---------------- ----------------------- 18.9/45.9 MB 2.8 MB/s eta 0:00:10\n",
      "   ---------------- ----------------------- 19.0/45.9 MB 2.8 MB/s eta 0:00:10\n",
      "   ---------------- ----------------------- 19.1/45.9 MB 2.8 MB/s eta 0:00:10\n",
      "   ---------------- ----------------------- 19.2/45.9 MB 2.8 MB/s eta 0:00:10\n",
      "   ---------------- ----------------------- 19.3/45.9 MB 2.8 MB/s eta 0:00:10\n",
      "   ---------------- ----------------------- 19.4/45.9 MB 2.8 MB/s eta 0:00:10\n",
      "   ---------------- ----------------------- 19.5/45.9 MB 2.8 MB/s eta 0:00:10\n",
      "   ----------------- ---------------------- 19.6/45.9 MB 2.7 MB/s eta 0:00:10\n",
      "   ----------------- ---------------------- 19.7/45.9 MB 2.7 MB/s eta 0:00:10\n",
      "   ----------------- ---------------------- 19.8/45.9 MB 2.8 MB/s eta 0:00:10\n",
      "   ----------------- ---------------------- 20.0/45.9 MB 2.7 MB/s eta 0:00:10\n",
      "   ----------------- ---------------------- 20.1/45.9 MB 2.8 MB/s eta 0:00:10\n",
      "   ----------------- ---------------------- 20.2/45.9 MB 2.8 MB/s eta 0:00:10\n",
      "   ----------------- ---------------------- 20.3/45.9 MB 2.7 MB/s eta 0:00:10\n",
      "   ----------------- ---------------------- 20.4/45.9 MB 2.7 MB/s eta 0:00:10\n",
      "   ----------------- ---------------------- 20.7/45.9 MB 2.8 MB/s eta 0:00:10\n",
      "   ------------------ --------------------- 20.7/45.9 MB 2.7 MB/s eta 0:00:10\n",
      "   ------------------ --------------------- 20.8/45.9 MB 2.7 MB/s eta 0:00:10\n",
      "   ------------------ --------------------- 21.0/45.9 MB 2.7 MB/s eta 0:00:10\n",
      "   ------------------ --------------------- 21.0/45.9 MB 2.7 MB/s eta 0:00:10\n",
      "   ------------------ --------------------- 21.1/45.9 MB 2.7 MB/s eta 0:00:10\n",
      "   ------------------ --------------------- 21.3/45.9 MB 2.7 MB/s eta 0:00:10\n",
      "   ------------------ --------------------- 21.4/45.9 MB 2.7 MB/s eta 0:00:10\n",
      "   ------------------ --------------------- 21.5/45.9 MB 2.7 MB/s eta 0:00:09\n",
      "   ------------------ --------------------- 21.7/45.9 MB 2.7 MB/s eta 0:00:09\n",
      "   ------------------- -------------------- 21.8/45.9 MB 2.7 MB/s eta 0:00:09\n",
      "   ------------------- -------------------- 22.0/45.9 MB 2.7 MB/s eta 0:00:09\n",
      "   ------------------- -------------------- 22.1/45.9 MB 2.7 MB/s eta 0:00:09\n",
      "   ------------------- -------------------- 22.2/45.9 MB 2.7 MB/s eta 0:00:09\n",
      "   ------------------- -------------------- 22.3/45.9 MB 2.7 MB/s eta 0:00:09\n",
      "   ------------------- -------------------- 22.4/45.9 MB 2.7 MB/s eta 0:00:09\n",
      "   ------------------- -------------------- 22.5/45.9 MB 2.7 MB/s eta 0:00:09\n",
      "   ------------------- -------------------- 22.6/45.9 MB 2.7 MB/s eta 0:00:09\n",
      "   ------------------- -------------------- 22.8/45.9 MB 2.7 MB/s eta 0:00:09\n",
      "   ------------------- -------------------- 22.8/45.9 MB 2.7 MB/s eta 0:00:09\n",
      "   ------------------- -------------------- 22.9/45.9 MB 2.7 MB/s eta 0:00:09\n",
      "   -------------------- ------------------- 23.1/45.9 MB 2.7 MB/s eta 0:00:09\n",
      "   -------------------- ------------------- 23.2/45.9 MB 2.7 MB/s eta 0:00:09\n",
      "   -------------------- ------------------- 23.4/45.9 MB 2.7 MB/s eta 0:00:09\n",
      "   -------------------- ------------------- 23.5/45.9 MB 2.7 MB/s eta 0:00:09\n",
      "   -------------------- ------------------- 23.6/45.9 MB 2.7 MB/s eta 0:00:09\n",
      "   -------------------- ------------------- 23.8/45.9 MB 2.7 MB/s eta 0:00:09\n",
      "   -------------------- ------------------- 23.9/45.9 MB 2.7 MB/s eta 0:00:09\n",
      "   -------------------- ------------------- 24.0/45.9 MB 2.7 MB/s eta 0:00:09\n",
      "   --------------------- ------------------ 24.2/45.9 MB 2.7 MB/s eta 0:00:09\n",
      "   --------------------- ------------------ 24.3/45.9 MB 2.7 MB/s eta 0:00:09\n",
      "   --------------------- ------------------ 24.5/45.9 MB 2.7 MB/s eta 0:00:08\n",
      "   --------------------- ------------------ 24.6/45.9 MB 2.7 MB/s eta 0:00:08\n",
      "   --------------------- ------------------ 24.7/45.9 MB 2.7 MB/s eta 0:00:08\n",
      "   --------------------- ------------------ 24.9/45.9 MB 2.7 MB/s eta 0:00:08\n",
      "   --------------------- ------------------ 25.0/45.9 MB 2.7 MB/s eta 0:00:08\n",
      "   --------------------- ------------------ 25.1/45.9 MB 2.7 MB/s eta 0:00:08\n",
      "   ---------------------- ----------------- 25.3/45.9 MB 2.8 MB/s eta 0:00:08\n",
      "   ---------------------- ----------------- 25.4/45.9 MB 2.7 MB/s eta 0:00:08\n",
      "   ---------------------- ----------------- 25.5/45.9 MB 2.8 MB/s eta 0:00:08\n",
      "   ---------------------- ----------------- 25.7/45.9 MB 2.8 MB/s eta 0:00:08\n",
      "   ---------------------- ----------------- 25.8/45.9 MB 2.7 MB/s eta 0:00:08\n",
      "   ---------------------- ----------------- 25.9/45.9 MB 2.7 MB/s eta 0:00:08\n",
      "   ---------------------- ----------------- 26.1/45.9 MB 2.7 MB/s eta 0:00:08\n",
      "   ---------------------- ----------------- 26.2/45.9 MB 2.7 MB/s eta 0:00:08\n",
      "   ---------------------- ----------------- 26.3/45.9 MB 2.7 MB/s eta 0:00:08\n",
      "   ----------------------- ---------------- 26.5/45.9 MB 2.7 MB/s eta 0:00:08\n",
      "   ----------------------- ---------------- 26.6/45.9 MB 2.7 MB/s eta 0:00:08\n",
      "   ----------------------- ---------------- 26.7/45.9 MB 2.7 MB/s eta 0:00:08\n",
      "   ----------------------- ---------------- 26.9/45.9 MB 2.7 MB/s eta 0:00:07\n",
      "   ----------------------- ---------------- 27.0/45.9 MB 2.7 MB/s eta 0:00:07\n",
      "   ----------------------- ---------------- 27.1/45.9 MB 2.7 MB/s eta 0:00:07\n",
      "   ----------------------- ---------------- 27.3/45.9 MB 2.7 MB/s eta 0:00:07\n",
      "   ----------------------- ---------------- 27.4/45.9 MB 2.7 MB/s eta 0:00:07\n",
      "   ----------------------- ---------------- 27.5/45.9 MB 2.7 MB/s eta 0:00:07\n",
      "   ------------------------ --------------- 27.7/45.9 MB 2.7 MB/s eta 0:00:07\n",
      "   ------------------------ --------------- 27.8/45.9 MB 2.7 MB/s eta 0:00:07\n",
      "   ------------------------ --------------- 27.9/45.9 MB 2.7 MB/s eta 0:00:07\n",
      "   ------------------------ --------------- 28.1/45.9 MB 2.7 MB/s eta 0:00:07\n",
      "   ------------------------ --------------- 28.2/45.9 MB 2.7 MB/s eta 0:00:07\n",
      "   ------------------------ --------------- 28.3/45.9 MB 2.7 MB/s eta 0:00:07\n",
      "   ------------------------ --------------- 28.5/45.9 MB 2.7 MB/s eta 0:00:07\n",
      "   ------------------------ --------------- 28.6/45.9 MB 2.7 MB/s eta 0:00:07\n",
      "   ------------------------- -------------- 28.7/45.9 MB 2.7 MB/s eta 0:00:07\n",
      "   ------------------------- -------------- 28.8/45.9 MB 2.7 MB/s eta 0:00:07\n",
      "   ------------------------- -------------- 28.9/45.9 MB 2.7 MB/s eta 0:00:07\n",
      "   ------------------------- -------------- 29.0/45.9 MB 2.7 MB/s eta 0:00:07\n",
      "   ------------------------- -------------- 29.2/45.9 MB 2.7 MB/s eta 0:00:07\n",
      "   ------------------------- -------------- 29.3/45.9 MB 2.7 MB/s eta 0:00:07\n",
      "   ------------------------- -------------- 29.5/45.9 MB 2.8 MB/s eta 0:00:06\n",
      "   ------------------------- -------------- 29.6/45.9 MB 2.7 MB/s eta 0:00:06\n",
      "   ------------------------- -------------- 29.7/45.9 MB 2.8 MB/s eta 0:00:06\n",
      "   -------------------------- ------------- 29.9/45.9 MB 2.8 MB/s eta 0:00:06\n",
      "   -------------------------- ------------- 30.0/45.9 MB 2.8 MB/s eta 0:00:06\n",
      "   -------------------------- ------------- 30.1/45.9 MB 2.8 MB/s eta 0:00:06\n",
      "   -------------------------- ------------- 30.3/45.9 MB 2.8 MB/s eta 0:00:06\n",
      "   -------------------------- ------------- 30.4/45.9 MB 2.8 MB/s eta 0:00:06\n",
      "   -------------------------- ------------- 30.5/45.9 MB 2.8 MB/s eta 0:00:06\n",
      "   -------------------------- ------------- 30.6/45.9 MB 2.8 MB/s eta 0:00:06\n",
      "   -------------------------- ------------- 30.8/45.9 MB 2.8 MB/s eta 0:00:06\n",
      "   -------------------------- ------------- 30.9/45.9 MB 2.8 MB/s eta 0:00:06\n",
      "   --------------------------- ------------ 31.0/45.9 MB 2.8 MB/s eta 0:00:06\n",
      "   --------------------------- ------------ 31.2/45.9 MB 2.8 MB/s eta 0:00:06\n",
      "   --------------------------- ------------ 31.3/45.9 MB 2.8 MB/s eta 0:00:06\n",
      "   --------------------------- ------------ 31.4/45.9 MB 2.8 MB/s eta 0:00:06\n",
      "   --------------------------- ------------ 31.6/45.9 MB 2.8 MB/s eta 0:00:06\n",
      "   --------------------------- ------------ 31.7/45.9 MB 2.8 MB/s eta 0:00:06\n",
      "   --------------------------- ------------ 31.8/45.9 MB 2.8 MB/s eta 0:00:06\n",
      "   --------------------------- ------------ 31.9/45.9 MB 2.8 MB/s eta 0:00:05\n",
      "   --------------------------- ------------ 32.1/45.9 MB 2.8 MB/s eta 0:00:05\n",
      "   ---------------------------- ----------- 32.2/45.9 MB 2.8 MB/s eta 0:00:05\n",
      "   ---------------------------- ----------- 32.4/45.9 MB 2.8 MB/s eta 0:00:05\n",
      "   ---------------------------- ----------- 32.5/45.9 MB 2.8 MB/s eta 0:00:05\n",
      "   ---------------------------- ----------- 32.6/45.9 MB 2.8 MB/s eta 0:00:05\n",
      "   ---------------------------- ----------- 32.8/45.9 MB 2.8 MB/s eta 0:00:05\n",
      "   ---------------------------- ----------- 32.9/45.9 MB 2.8 MB/s eta 0:00:05\n",
      "   ---------------------------- ----------- 33.0/45.9 MB 2.8 MB/s eta 0:00:05\n",
      "   ---------------------------- ----------- 33.1/45.9 MB 2.9 MB/s eta 0:00:05\n",
      "   ---------------------------- ----------- 33.2/45.9 MB 2.8 MB/s eta 0:00:05\n",
      "   ----------------------------- ---------- 33.4/45.9 MB 2.8 MB/s eta 0:00:05\n",
      "   ----------------------------- ---------- 33.5/45.9 MB 2.8 MB/s eta 0:00:05\n",
      "   ----------------------------- ---------- 33.6/45.9 MB 2.8 MB/s eta 0:00:05\n",
      "   ----------------------------- ---------- 33.7/45.9 MB 2.8 MB/s eta 0:00:05\n",
      "   ----------------------------- ---------- 33.9/45.9 MB 2.8 MB/s eta 0:00:05\n",
      "   ----------------------------- ---------- 34.0/45.9 MB 2.8 MB/s eta 0:00:05\n",
      "   ----------------------------- ---------- 34.1/45.9 MB 2.8 MB/s eta 0:00:05\n",
      "   ----------------------------- ---------- 34.3/45.9 MB 2.8 MB/s eta 0:00:05\n",
      "   ----------------------------- ---------- 34.4/45.9 MB 2.8 MB/s eta 0:00:05\n",
      "   ------------------------------ --------- 34.5/45.9 MB 2.8 MB/s eta 0:00:05\n",
      "   ------------------------------ --------- 34.7/45.9 MB 2.8 MB/s eta 0:00:04\n",
      "   ------------------------------ --------- 34.8/45.9 MB 2.8 MB/s eta 0:00:04\n",
      "   ------------------------------ --------- 34.9/45.9 MB 2.8 MB/s eta 0:00:04\n",
      "   ------------------------------ --------- 35.1/45.9 MB 2.8 MB/s eta 0:00:04\n",
      "   ------------------------------ --------- 35.2/45.9 MB 2.8 MB/s eta 0:00:04\n",
      "   ------------------------------ --------- 35.3/45.9 MB 2.8 MB/s eta 0:00:04\n",
      "   ------------------------------ --------- 35.5/45.9 MB 2.8 MB/s eta 0:00:04\n",
      "   ------------------------------- -------- 35.6/45.9 MB 2.8 MB/s eta 0:00:04\n",
      "   ------------------------------- -------- 35.7/45.9 MB 2.8 MB/s eta 0:00:04\n",
      "   ------------------------------- -------- 35.9/45.9 MB 2.8 MB/s eta 0:00:04\n",
      "   ------------------------------- -------- 36.0/45.9 MB 2.8 MB/s eta 0:00:04\n",
      "   ------------------------------- -------- 36.1/45.9 MB 2.8 MB/s eta 0:00:04\n",
      "   ------------------------------- -------- 36.3/45.9 MB 2.8 MB/s eta 0:00:04\n",
      "   ------------------------------- -------- 36.4/45.9 MB 2.8 MB/s eta 0:00:04\n",
      "   ------------------------------- -------- 36.5/45.9 MB 2.8 MB/s eta 0:00:04\n",
      "   ------------------------------- -------- 36.7/45.9 MB 2.8 MB/s eta 0:00:04\n",
      "   -------------------------------- ------- 36.8/45.9 MB 2.8 MB/s eta 0:00:04\n",
      "   -------------------------------- ------- 36.9/45.9 MB 2.8 MB/s eta 0:00:04\n",
      "   -------------------------------- ------- 37.1/45.9 MB 2.8 MB/s eta 0:00:04\n",
      "   -------------------------------- ------- 37.2/45.9 MB 2.8 MB/s eta 0:00:04\n",
      "   -------------------------------- ------- 37.4/45.9 MB 2.8 MB/s eta 0:00:04\n",
      "   -------------------------------- ------- 37.5/45.9 MB 2.8 MB/s eta 0:00:03\n",
      "   -------------------------------- ------- 37.6/45.9 MB 2.8 MB/s eta 0:00:03\n",
      "   -------------------------------- ------- 37.7/45.9 MB 2.8 MB/s eta 0:00:03\n",
      "   -------------------------------- ------- 37.9/45.9 MB 2.8 MB/s eta 0:00:03\n",
      "   --------------------------------- ------ 38.0/45.9 MB 2.8 MB/s eta 0:00:03\n",
      "   --------------------------------- ------ 38.1/45.9 MB 2.8 MB/s eta 0:00:03\n",
      "   --------------------------------- ------ 38.3/45.9 MB 2.8 MB/s eta 0:00:03\n",
      "   --------------------------------- ------ 38.4/45.9 MB 2.8 MB/s eta 0:00:03\n",
      "   --------------------------------- ------ 38.6/45.9 MB 2.8 MB/s eta 0:00:03\n",
      "   --------------------------------- ------ 38.7/45.9 MB 2.8 MB/s eta 0:00:03\n",
      "   --------------------------------- ------ 38.8/45.9 MB 2.8 MB/s eta 0:00:03\n",
      "   --------------------------------- ------ 39.0/45.9 MB 2.8 MB/s eta 0:00:03\n",
      "   ---------------------------------- ----- 39.1/45.9 MB 2.9 MB/s eta 0:00:03\n",
      "   ---------------------------------- ----- 39.2/45.9 MB 2.9 MB/s eta 0:00:03\n",
      "   ---------------------------------- ----- 39.4/45.9 MB 2.9 MB/s eta 0:00:03\n",
      "   ---------------------------------- ----- 39.5/45.9 MB 2.9 MB/s eta 0:00:03\n",
      "   ---------------------------------- ----- 39.7/45.9 MB 2.9 MB/s eta 0:00:03\n",
      "   ---------------------------------- ----- 39.8/45.9 MB 2.9 MB/s eta 0:00:03\n",
      "   ---------------------------------- ----- 39.9/45.9 MB 2.9 MB/s eta 0:00:03\n",
      "   ---------------------------------- ----- 40.1/45.9 MB 2.9 MB/s eta 0:00:03\n",
      "   ----------------------------------- ---- 40.2/45.9 MB 2.9 MB/s eta 0:00:02\n",
      "   ----------------------------------- ---- 40.3/45.9 MB 2.9 MB/s eta 0:00:02\n",
      "   ----------------------------------- ---- 40.5/45.9 MB 2.9 MB/s eta 0:00:02\n",
      "   ----------------------------------- ---- 40.6/45.9 MB 2.9 MB/s eta 0:00:02\n",
      "   ----------------------------------- ---- 40.7/45.9 MB 2.9 MB/s eta 0:00:02\n",
      "   ----------------------------------- ---- 40.8/45.9 MB 2.9 MB/s eta 0:00:02\n",
      "   ----------------------------------- ---- 41.0/45.9 MB 2.9 MB/s eta 0:00:02\n",
      "   ----------------------------------- ---- 41.1/45.9 MB 2.9 MB/s eta 0:00:02\n",
      "   ----------------------------------- ---- 41.3/45.9 MB 2.9 MB/s eta 0:00:02\n",
      "   ------------------------------------ --- 41.4/45.9 MB 2.9 MB/s eta 0:00:02\n",
      "   ------------------------------------ --- 41.5/45.9 MB 2.9 MB/s eta 0:00:02\n",
      "   ------------------------------------ --- 41.7/45.9 MB 2.9 MB/s eta 0:00:02\n",
      "   ------------------------------------ --- 41.8/45.9 MB 2.9 MB/s eta 0:00:02\n",
      "   ------------------------------------ --- 41.9/45.9 MB 2.9 MB/s eta 0:00:02\n",
      "   ------------------------------------ --- 42.1/45.9 MB 2.9 MB/s eta 0:00:02\n",
      "   ------------------------------------ --- 42.2/45.9 MB 2.9 MB/s eta 0:00:02\n",
      "   ------------------------------------ --- 42.3/45.9 MB 2.9 MB/s eta 0:00:02\n",
      "   ------------------------------------- -- 42.5/45.9 MB 2.9 MB/s eta 0:00:02\n",
      "   ------------------------------------- -- 42.6/45.9 MB 2.9 MB/s eta 0:00:02\n",
      "   ------------------------------------- -- 42.8/45.9 MB 2.9 MB/s eta 0:00:02\n",
      "   ------------------------------------- -- 42.9/45.9 MB 2.9 MB/s eta 0:00:02\n",
      "   ------------------------------------- -- 43.0/45.9 MB 2.9 MB/s eta 0:00:01\n",
      "   ------------------------------------- -- 43.2/45.9 MB 2.9 MB/s eta 0:00:01\n",
      "   ------------------------------------- -- 43.3/45.9 MB 2.9 MB/s eta 0:00:01\n",
      "   ------------------------------------- -- 43.6/45.9 MB 2.9 MB/s eta 0:00:01\n",
      "   -------------------------------------- - 43.8/45.9 MB 3.0 MB/s eta 0:00:01\n",
      "   -------------------------------------- - 44.0/45.9 MB 3.0 MB/s eta 0:00:01\n",
      "   -------------------------------------- - 44.1/45.9 MB 3.0 MB/s eta 0:00:01\n",
      "   -------------------------------------- - 44.3/45.9 MB 3.0 MB/s eta 0:00:01\n",
      "   -------------------------------------- - 44.4/45.9 MB 3.0 MB/s eta 0:00:01\n",
      "   -------------------------------------- - 44.5/45.9 MB 3.0 MB/s eta 0:00:01\n",
      "   -------------------------------------- - 44.7/45.9 MB 3.0 MB/s eta 0:00:01\n",
      "   ---------------------------------------  44.8/45.9 MB 3.0 MB/s eta 0:00:01\n",
      "   ---------------------------------------  45.0/45.9 MB 3.0 MB/s eta 0:00:01\n",
      "   ---------------------------------------  45.1/45.9 MB 3.0 MB/s eta 0:00:01\n",
      "   ---------------------------------------  45.2/45.9 MB 3.0 MB/s eta 0:00:01\n",
      "   ---------------------------------------  45.4/45.9 MB 3.0 MB/s eta 0:00:01\n",
      "   ---------------------------------------  45.5/45.9 MB 3.0 MB/s eta 0:00:01\n",
      "   ---------------------------------------  45.6/45.9 MB 3.0 MB/s eta 0:00:01\n",
      "   ---------------------------------------  45.8/45.9 MB 3.0 MB/s eta 0:00:01\n",
      "   ---------------------------------------  45.9/45.9 MB 3.0 MB/s eta 0:00:01\n",
      "   ---------------------------------------  45.9/45.9 MB 3.0 MB/s eta 0:00:01\n",
      "   ---------------------------------------- 45.9/45.9 MB 3.0 MB/s eta 0:00:00\n",
      "Installing collected packages: scipy\n",
      "Successfully installed scipy-1.13.0\n",
      "Note: you may need to restart the kernel to use updated packages.\n"
     ]
    }
   ],
   "source": [
    "pip install scipy"
   ]
  },
  {
   "cell_type": "code",
   "execution_count": 32,
   "id": "d5b450b6-96fd-45ea-8e90-4b72e2de0f17",
   "metadata": {},
   "outputs": [],
   "source": [
    "import numpy as np\n",
    "from scipy import stats\n",
    "\n",
    "def calculate_confidence_interval(data, confidence=0.95):\n",
    "    mean = np.mean(data)\n",
    "    n = len(data)\n",
    "    stderr = stats.sem(data)\n",
    "    interval = stderr * stats.t.ppf((1 + confidence) / 2., n - 1)\n",
    "    return mean - interval, mean ,mean + interval"
   ]
  },
  {
   "cell_type": "code",
   "execution_count": 171,
   "id": "f8a3f0ba-5ddd-44c1-9eaf-8dfabe8a63fc",
   "metadata": {},
   "outputs": [
    {
     "data": {
      "text/plain": [
       "(0.15897700141626406, 0.16372254932094313, 0.1684680972256222)"
      ]
     },
     "execution_count": 171,
     "metadata": {},
     "output_type": "execute_result"
    }
   ],
   "source": [
    "calculate_confidence_interval(df_need['lex_rank_scores'])"
   ]
  },
  {
   "cell_type": "code",
   "execution_count": 172,
   "id": "13ecef74-51f7-40f0-925a-b4bd0de038ce",
   "metadata": {},
   "outputs": [
    {
     "data": {
      "text/plain": [
       "(0.1724774936049619, 0.17748832458745759, 0.18249915556995328)"
      ]
     },
     "execution_count": 172,
     "metadata": {},
     "output_type": "execute_result"
    }
   ],
   "source": [
    "calculate_confidence_interval(df_need['text_rank_scores'])"
   ]
  },
  {
   "cell_type": "code",
   "execution_count": null,
   "id": "57fd9035-83b8-41df-8601-d7e101acedf2",
   "metadata": {},
   "outputs": [],
   "source": []
  },
  {
   "cell_type": "code",
   "execution_count": null,
   "id": "f5eaf69b-6bc8-4321-b23d-8dc4acafe025",
   "metadata": {},
   "outputs": [],
   "source": []
  },
  {
   "cell_type": "markdown",
   "id": "f603dae5-d22c-431c-a697-a3a875c9ebb8",
   "metadata": {},
   "source": [
    "## Bi-LSTM"
   ]
  },
  {
   "cell_type": "code",
   "execution_count": 17,
   "id": "15cbbbd9-fb1a-47b3-b4d6-be80d9a624ea",
   "metadata": {},
   "outputs": [],
   "source": [
    "import pandas as pd\n",
    "df_bi = pd.read_csv('C:/Users/ryzhk/Documents/Projects/TestSummarizationDiploma/bi-lstm-result.csv')"
   ]
  },
  {
   "cell_type": "code",
   "execution_count": 27,
   "id": "d523dcbd-a423-413c-8036-c45321c1fb01",
   "metadata": {},
   "outputs": [],
   "source": [
    "df_bi['scores'] = df_bi[['Original Summary','Model Output']]\\\n",
    ".apply(lambda x: rouge_metrics.score(x['Original Summary'],x['Model Output'])['rougeL'].fmeasure,axis = 1)\n"
   ]
  },
  {
   "cell_type": "code",
   "execution_count": 33,
   "id": "2eaea94c-a62d-4405-afbc-f7d99f49cfc3",
   "metadata": {},
   "outputs": [
    {
     "data": {
      "text/plain": [
       "(0.10552818004568913, 0.11036783983213726, 0.11520749961858538)"
      ]
     },
     "execution_count": 33,
     "metadata": {},
     "output_type": "execute_result"
    }
   ],
   "source": [
    "calculate_confidence_interval(df_bi['scores'])"
   ]
  },
  {
   "cell_type": "code",
   "execution_count": 34,
   "id": "9ef2736a-11b3-40ad-b5ab-b9d84dac8b6a",
   "metadata": {},
   "outputs": [],
   "source": [
    "df_bi['scores1'] = df_bi[['Original Summary','Model Output']]\\\n",
    ".apply(lambda x: rouge_metrics.score(x['Original Summary'],x['Model Output'])['rouge1'].fmeasure,axis = 1)\n",
    "\n",
    "df_bi['scores2'] = df_bi[['Original Summary','Model Output']]\\\n",
    ".apply(lambda x: rouge_metrics.score(x['Original Summary'],x['Model Output'])['rouge2'].fmeasure,axis = 1)\n"
   ]
  },
  {
   "cell_type": "code",
   "execution_count": 35,
   "id": "9ef1ebac-ccaf-4384-81d0-e10858f20729",
   "metadata": {},
   "outputs": [
    {
     "data": {
      "text/plain": [
       "(0.018284537408088657, 0.020566170806652143, 0.02284780420521563)"
      ]
     },
     "execution_count": 35,
     "metadata": {},
     "output_type": "execute_result"
    }
   ],
   "source": [
    "calculate_confidence_interval(df_bi['scores2'])"
   ]
  },
  {
   "cell_type": "code",
   "execution_count": 36,
   "id": "a425b95b-f875-4ecd-97e9-44b38e71b300",
   "metadata": {},
   "outputs": [
    {
     "data": {
      "text/plain": [
       "(0.13100073604655407, 0.13750704710536849, 0.1440133581641829)"
      ]
     },
     "execution_count": 36,
     "metadata": {},
     "output_type": "execute_result"
    }
   ],
   "source": [
    "calculate_confidence_interval(df_bi['scores1'])"
   ]
  }
 ],
 "metadata": {
  "kernelspec": {
   "display_name": "Python 3 (ipykernel)",
   "language": "python",
   "name": "python3"
  },
  "language_info": {
   "codemirror_mode": {
    "name": "ipython",
    "version": 3
   },
   "file_extension": ".py",
   "mimetype": "text/x-python",
   "name": "python",
   "nbconvert_exporter": "python",
   "pygments_lexer": "ipython3",
   "version": "3.12.0"
  }
 },
 "nbformat": 4,
 "nbformat_minor": 5
}
