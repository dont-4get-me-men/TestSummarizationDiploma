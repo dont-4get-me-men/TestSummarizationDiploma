{
 "cells": [
  {
   "cell_type": "code",
   "execution_count": 14,
   "id": "cec2ef83-b776-45fe-8353-5f1f4e6d1272",
   "metadata": {},
   "outputs": [],
   "source": [
    "import rouge_score"
   ]
  },
  {
   "cell_type": "code",
   "execution_count": 77,
   "id": "55cbf5c1-06fa-4844-a6d0-9cc18e5bb61f",
   "metadata": {},
   "outputs": [
    {
     "name": "stderr",
     "output_type": "stream",
     "text": [
      "[nltk_data] Downloading package stopwords to\n",
      "[nltk_data]     /Users/dfm4ik/nltk_data...\n",
      "[nltk_data]   Package stopwords is already up-to-date!\n"
     ]
    },
    {
     "data": {
      "text/plain": [
       "True"
      ]
     },
     "execution_count": 77,
     "metadata": {},
     "output_type": "execute_result"
    }
   ],
   "source": [
    "import pandas as pd \n",
    "import numpy as np\n",
    "import nltk\n",
    "from nltk.corpus import stopwords\n",
    "from tqdm._tqdm_notebook import tqdm_notebook\n",
    "import warnings\n",
    "from nltk.tokenize import sent_tokenize\n",
    "\n",
    "nltk.download('punkt')\n",
    "warnings.filterwarnings('ignore')\n",
    "tqdm_notebook.pandas()\n",
    "nltk.download('stopwords')\n"
   ]
  },
  {
   "cell_type": "code",
   "execution_count": 15,
   "id": "69405a3b-f0bb-480b-af9b-9fbb704291f0",
   "metadata": {},
   "outputs": [],
   "source": [
    "df = pd.read_csv('cnn_dailymail/train.csv')"
   ]
  },
  {
   "cell_type": "code",
   "execution_count": 34,
   "id": "3dc4a416-fc7f-43b2-93a8-3dacf5146545",
   "metadata": {},
   "outputs": [],
   "source": [
    "rouge_metrics = rouge_score.rouge_scorer.RougeScorer(['rouge1', 'rougeL','rouge2'], use_stemmer=True)"
   ]
  },
  {
   "cell_type": "code",
   "execution_count": 53,
   "id": "abbf2b52-a877-4aba-a3e8-d2868a96cfee",
   "metadata": {},
   "outputs": [
    {
     "data": {
      "text/html": [
       "<div>\n",
       "<style scoped>\n",
       "    .dataframe tbody tr th:only-of-type {\n",
       "        vertical-align: middle;\n",
       "    }\n",
       "\n",
       "    .dataframe tbody tr th {\n",
       "        vertical-align: top;\n",
       "    }\n",
       "\n",
       "    .dataframe thead th {\n",
       "        text-align: right;\n",
       "    }\n",
       "</style>\n",
       "<table border=\"1\" class=\"dataframe\">\n",
       "  <thead>\n",
       "    <tr style=\"text-align: right;\">\n",
       "      <th></th>\n",
       "      <th>id</th>\n",
       "      <th>article</th>\n",
       "      <th>highlights</th>\n",
       "    </tr>\n",
       "  </thead>\n",
       "  <tbody>\n",
       "    <tr>\n",
       "      <th>0</th>\n",
       "      <td>0001d1afc246a7964130f43ae940af6bc6c57f01</td>\n",
       "      <td>By . Associated Press . PUBLISHED: . 14:11 EST...</td>\n",
       "      <td>Bishop John Folda, of North Dakota, is taking ...</td>\n",
       "    </tr>\n",
       "    <tr>\n",
       "      <th>1</th>\n",
       "      <td>0002095e55fcbd3a2f366d9bf92a95433dc305ef</td>\n",
       "      <td>(CNN) -- Ralph Mata was an internal affairs li...</td>\n",
       "      <td>Criminal complaint: Cop used his role to help ...</td>\n",
       "    </tr>\n",
       "    <tr>\n",
       "      <th>2</th>\n",
       "      <td>00027e965c8264c35cc1bc55556db388da82b07f</td>\n",
       "      <td>A drunk driver who killed a young woman in a h...</td>\n",
       "      <td>Craig Eccleston-Todd, 27, had drunk at least t...</td>\n",
       "    </tr>\n",
       "    <tr>\n",
       "      <th>3</th>\n",
       "      <td>0002c17436637c4fe1837c935c04de47adb18e9a</td>\n",
       "      <td>(CNN) -- With a breezy sweep of his pen Presid...</td>\n",
       "      <td>Nina dos Santos says Europe must be ready to a...</td>\n",
       "    </tr>\n",
       "    <tr>\n",
       "      <th>4</th>\n",
       "      <td>0003ad6ef0c37534f80b55b4235108024b407f0b</td>\n",
       "      <td>Fleetwood are the only team still to have a 10...</td>\n",
       "      <td>Fleetwood top of League One after 2-0 win at S...</td>\n",
       "    </tr>\n",
       "  </tbody>\n",
       "</table>\n",
       "</div>"
      ],
      "text/plain": [
       "                                         id  \\\n",
       "0  0001d1afc246a7964130f43ae940af6bc6c57f01   \n",
       "1  0002095e55fcbd3a2f366d9bf92a95433dc305ef   \n",
       "2  00027e965c8264c35cc1bc55556db388da82b07f   \n",
       "3  0002c17436637c4fe1837c935c04de47adb18e9a   \n",
       "4  0003ad6ef0c37534f80b55b4235108024b407f0b   \n",
       "\n",
       "                                             article  \\\n",
       "0  By . Associated Press . PUBLISHED: . 14:11 EST...   \n",
       "1  (CNN) -- Ralph Mata was an internal affairs li...   \n",
       "2  A drunk driver who killed a young woman in a h...   \n",
       "3  (CNN) -- With a breezy sweep of his pen Presid...   \n",
       "4  Fleetwood are the only team still to have a 10...   \n",
       "\n",
       "                                          highlights  \n",
       "0  Bishop John Folda, of North Dakota, is taking ...  \n",
       "1  Criminal complaint: Cop used his role to help ...  \n",
       "2  Craig Eccleston-Todd, 27, had drunk at least t...  \n",
       "3  Nina dos Santos says Europe must be ready to a...  \n",
       "4  Fleetwood top of League One after 2-0 win at S...  "
      ]
     },
     "execution_count": 53,
     "metadata": {},
     "output_type": "execute_result"
    }
   ],
   "source": [
    "df.head()"
   ]
  },
  {
   "cell_type": "code",
   "execution_count": 54,
   "id": "ce15ecc2-a17d-4444-8d2e-919a8f0a81f0",
   "metadata": {},
   "outputs": [
    {
     "data": {
      "text/plain": [
       "\"By . Associated Press . PUBLISHED: . 14:11 EST, 25 October 2013 . | . UPDATED: . 15:36 EST, 25 October 2013 . The bishop of the Fargo Catholic Diocese in North Dakota has exposed potentially hundreds of church members in Fargo, Grand Forks and Jamestown to the hepatitis A virus in late September and early October. The state Health Department has issued an advisory of exposure for anyone who attended five churches and took communion. Bishop John Folda (pictured) of the Fargo Catholic Diocese in North Dakota has exposed potentially hundreds of church members in Fargo, Grand Forks and Jamestown to the hepatitis A . State Immunization Program Manager Molly Howell says the risk is low, but officials feel it's important to alert people to the possible exposure. The diocese announced on Monday that Bishop John Folda is taking time off after being diagnosed with hepatitis A. The diocese says he contracted the infection through contaminated food while attending a conference for newly ordained bishops in Italy last month. Symptoms of hepatitis A include fever, tiredness, loss of appetite, nausea and abdominal discomfort. Fargo Catholic Diocese in North Dakota (pictured) is where the bishop is located .\""
      ]
     },
     "execution_count": 54,
     "metadata": {},
     "output_type": "execute_result"
    }
   ],
   "source": [
    "df['article'][0]"
   ]
  },
  {
   "cell_type": "code",
   "execution_count": 56,
   "id": "8e3b5cda-fda6-4da6-8b77-527dfd325c1d",
   "metadata": {},
   "outputs": [
    {
     "name": "stdout",
     "output_type": "stream",
     "text": [
      "Bishop John Folda, of North Dakota, is taking time off after being diagnosed .\n",
      "He contracted the infection through contaminated food in Italy .\n",
      "Church members in Fargo, Grand Forks and Jamestown could have been exposed .\n"
     ]
    }
   ],
   "source": [
    "print(df['highlights'][0])"
   ]
  },
  {
   "cell_type": "code",
   "execution_count": 57,
   "id": "57f86f33-00f8-4334-bf1f-e42272df7520",
   "metadata": {},
   "outputs": [
    {
     "data": {
      "text/plain": [
       "(287113, 3)"
      ]
     },
     "execution_count": 57,
     "metadata": {},
     "output_type": "execute_result"
    }
   ],
   "source": [
    "df.shape"
   ]
  },
  {
   "cell_type": "code",
   "execution_count": 67,
   "id": "33aab0e5-ae2f-44fe-a4bf-11a6b1124a8f",
   "metadata": {},
   "outputs": [],
   "source": [
    "df_need = df[:1000]"
   ]
  },
  {
   "cell_type": "code",
   "execution_count": null,
   "id": "0ef3c509-fe35-4129-9751-19df694ce438",
   "metadata": {},
   "outputs": [],
   "source": [
    "PERCENT_RATIO = 0.2\n",
    "STOPWORDS = stopwords.words('english')"
   ]
  },
  {
   "cell_type": "markdown",
   "id": "5c066564-e9e7-423a-9316-a2f14e8f509c",
   "metadata": {},
   "source": [
    "#### text rank"
   ]
  },
  {
   "cell_type": "code",
   "execution_count": null,
   "id": "2558029d-5a86-479c-ae8d-6cc69a863ed9",
   "metadata": {},
   "outputs": [],
   "source": [
    "from summa.summarizer import summarize as textRankSumm"
   ]
  },
  {
   "cell_type": "code",
   "execution_count": 78,
   "id": "f21ffa97-e3a3-4196-9886-411a59e9e61b",
   "metadata": {},
   "outputs": [
    {
     "data": {
      "application/vnd.jupyter.widget-view+json": {
       "model_id": "62521229a6bd472dafbdb7c931d44850",
       "version_major": 2,
       "version_minor": 0
      },
      "text/plain": [
       "  0%|          | 0/1000 [00:00<?, ?it/s]"
      ]
     },
     "metadata": {},
     "output_type": "display_data"
    }
   ],
   "source": [
    "df_need['text_rank'] = df_need['article'].progress_apply(lambda x:summarize(x,ratio = PERCENT_RATIO,additional_stopwords = STOPWORDS))"
   ]
  },
  {
   "cell_type": "markdown",
   "id": "329419ff-d896-440b-a535-903fc309e9e7",
   "metadata": {},
   "source": [
    "#### LexRank"
   ]
  },
  {
   "cell_type": "code",
   "execution_count": 124,
   "id": "150f377c-a6c5-4408-8ed4-6d411b5c7656",
   "metadata": {},
   "outputs": [],
   "source": [
    "from lexrank import LexRank\n",
    "\n",
    "lxr = LexRank(df_need['article'],stopwords=STOPWORDS)\n",
    "df_need['article_sentences'] = df_need['article'].apply(lambda x:sent_tokenize(x))\n"
   ]
  },
  {
   "cell_type": "code",
   "execution_count": 127,
   "id": "d1aad5b8-0577-476e-a6ad-87bffc44216b",
   "metadata": {},
   "outputs": [
    {
     "data": {
      "application/vnd.jupyter.widget-view+json": {
       "model_id": "88bbc39821084189bbb6135258a2bac0",
       "version_major": 2,
       "version_minor": 0
      },
      "text/plain": [
       "  0%|          | 0/1000 [00:00<?, ?it/s]"
      ]
     },
     "metadata": {},
     "output_type": "display_data"
    }
   ],
   "source": [
    "df_need['lex_rank'] = df_need['article_sentences']\\\n",
    ".progress_apply(lambda x: lxr\\\n",
    "                .get_summary(x,\n",
    "                             summary_size=round(PERCENT_RATIO*len(x))\n",
    "                            )\n",
    "               )"
   ]
  },
  {
   "cell_type": "code",
   "execution_count": 128,
   "id": "2cd5743c-cfef-4591-bec8-38badb0a86fc",
   "metadata": {},
   "outputs": [],
   "source": [
    "def connect(x:list[str])->str:\n",
    "    return ''.join(x)\n",
    "\n",
    "df_need['lex_rank'] = df_need['lex_rank'].apply(conect)"
   ]
  },
  {
   "cell_type": "markdown",
   "id": "b13a48a0-e2ef-4835-8704-2e7b23649198",
   "metadata": {},
   "source": [
    "#### Evaluate\n",
    "\n"
   ]
  },
  {
   "cell_type": "code",
   "execution_count": 134,
   "id": "b9bd0b95-cd43-40e3-9900-b2f46e67c94d",
   "metadata": {},
   "outputs": [
    {
     "name": "stdout",
     "output_type": "stream",
     "text": [
      "The bishop of the Fargo Catholic Diocese in North Dakota has exposed potentially hundreds of church members in Fargo, Grand Forks and Jamestown to the hepatitis A virus in late September and early October.\n",
      "Bishop John Folda (pictured) of the Fargo Catholic Diocese in North Dakota has exposed potentially hundreds of church members in Fargo, Grand Forks and Jamestown to the hepatitis A . \n",
      "\n",
      " Bishop John Folda, of North Dakota, is taking time off after being diagnosed .\n",
      "He contracted the infection through contaminated food in Italy .\n",
      "Church members in Fargo, Grand Forks and Jamestown could have been exposed .\n"
     ]
    }
   ],
   "source": [
    "print(df_need['text_rank'][0],'\\n\\n',df_need['highlights'][0])"
   ]
  },
  {
   "cell_type": "code",
   "execution_count": 141,
   "id": "8927ff59-3dad-4626-8ce6-41f29b0bfb6d",
   "metadata": {},
   "outputs": [],
   "source": [
    "abba = rouge_metrics.score(df_need['highlights'][0],df_need['text_rank'][0])"
   ]
  },
  {
   "cell_type": "code",
   "execution_count": 144,
   "id": "e85de109-fe1b-4fe2-b558-94ad3a78fc86",
   "metadata": {},
   "outputs": [
    {
     "data": {
      "text/plain": [
       "0.28865979381443296"
      ]
     },
     "execution_count": 144,
     "metadata": {},
     "output_type": "execute_result"
    }
   ],
   "source": [
    "abba['rougeL'].fmeasure"
   ]
  },
  {
   "cell_type": "code",
   "execution_count": 153,
   "id": "aa709032-92a4-49c2-8eb5-89b3fca78f26",
   "metadata": {},
   "outputs": [
    {
     "data": {
      "text/plain": [
       "Index(['id', 'article', 'highlights', 'text_rank', 'article_sentences',\n",
       "       'lex_rank'],\n",
       "      dtype='object')"
      ]
     },
     "execution_count": 153,
     "metadata": {},
     "output_type": "execute_result"
    }
   ],
   "source": [
    "df_need.columns"
   ]
  },
  {
   "cell_type": "code",
   "execution_count": 164,
   "id": "e45d472d-2d4b-40d9-b8f4-2768a2ca1eb4",
   "metadata": {},
   "outputs": [],
   "source": [
    "\n",
    "df_need['text_rank_scores'] = df_need[['highlights','text_rank']]\\\n",
    ".apply(lambda x: rouge_metrics.score(x['highlights'],x['text_rank'])['rougeL'].fmeasure,axis = 1)\n",
    "\n",
    "df_need['lex_rank_scores'] = df_need[['highlights','lex_rank']]\\\n",
    ".apply(lambda x: rouge_metrics.score(x['highlights'],x['lex_rank'])['rougeL'].fmeasure,axis = 1)"
   ]
  },
  {
   "cell_type": "code",
   "execution_count": 162,
   "id": "794d5d5d-3ec2-468a-bf08-a7817d9d8ca2",
   "metadata": {},
   "outputs": [
    {
     "data": {
      "text/plain": [
       "0      0.288660\n",
       "1      0.126582\n",
       "2      0.224924\n",
       "3      0.119403\n",
       "4      0.099099\n",
       "         ...   \n",
       "995    0.140000\n",
       "996    0.176166\n",
       "997    0.194175\n",
       "998    0.283333\n",
       "999    0.183673\n",
       "Name: text_rank_scores, Length: 1000, dtype: float64"
      ]
     },
     "execution_count": 162,
     "metadata": {},
     "output_type": "execute_result"
    }
   ],
   "source": [
    "df_need['text_rank_scores']"
   ]
  },
  {
   "cell_type": "code",
   "execution_count": 165,
   "id": "a047c451-85e8-424d-9f94-4c1c42fca039",
   "metadata": {},
   "outputs": [
    {
     "data": {
      "text/plain": [
       "0      0.241379\n",
       "1      0.189189\n",
       "2      0.139394\n",
       "3      0.216749\n",
       "4      0.118644\n",
       "         ...   \n",
       "995    0.126984\n",
       "996    0.251429\n",
       "997    0.202899\n",
       "998    0.216216\n",
       "999    0.234234\n",
       "Name: lex_rank_scores, Length: 1000, dtype: float64"
      ]
     },
     "execution_count": 165,
     "metadata": {},
     "output_type": "execute_result"
    }
   ],
   "source": [
    "df_need['lex_rank_scores'] "
   ]
  },
  {
   "cell_type": "code",
   "execution_count": 170,
   "id": "d5b450b6-96fd-45ea-8e90-4b72e2de0f17",
   "metadata": {},
   "outputs": [],
   "source": [
    "import numpy as np\n",
    "from scipy import stats\n",
    "\n",
    "def calculate_confidence_interval(data, confidence=0.95):\n",
    "    mean = np.mean(data)\n",
    "    n = len(data)\n",
    "    stderr = stats.sem(data)\n",
    "    interval = stderr * stats.t.ppf((1 + confidence) / 2., n - 1)\n",
    "    return mean - interval, mean ,mean + interval"
   ]
  },
  {
   "cell_type": "code",
   "execution_count": 171,
   "id": "f8a3f0ba-5ddd-44c1-9eaf-8dfabe8a63fc",
   "metadata": {},
   "outputs": [
    {
     "data": {
      "text/plain": [
       "(0.15897700141626406, 0.16372254932094313, 0.1684680972256222)"
      ]
     },
     "execution_count": 171,
     "metadata": {},
     "output_type": "execute_result"
    }
   ],
   "source": [
    "calculate_confidence_interval(df_need['lex_rank_scores'])"
   ]
  },
  {
   "cell_type": "code",
   "execution_count": 172,
   "id": "13ecef74-51f7-40f0-925a-b4bd0de038ce",
   "metadata": {},
   "outputs": [
    {
     "data": {
      "text/plain": [
       "(0.1724774936049619, 0.17748832458745759, 0.18249915556995328)"
      ]
     },
     "execution_count": 172,
     "metadata": {},
     "output_type": "execute_result"
    }
   ],
   "source": [
    "calculate_confidence_interval(df_need['text_rank_scores'])"
   ]
  },
  {
   "cell_type": "code",
   "execution_count": null,
   "id": "57fd9035-83b8-41df-8601-d7e101acedf2",
   "metadata": {},
   "outputs": [],
   "source": []
  },
  {
   "cell_type": "code",
   "execution_count": null,
   "id": "f5eaf69b-6bc8-4321-b23d-8dc4acafe025",
   "metadata": {},
   "outputs": [],
   "source": []
  },
  {
   "cell_type": "code",
   "execution_count": null,
   "id": "0367be44-3b9b-4ea6-8f66-6bf72b0d069c",
   "metadata": {},
   "outputs": [],
   "source": []
  }
 ],
 "metadata": {
  "kernelspec": {
   "display_name": "Python 3 (ipykernel)",
   "language": "python",
   "name": "python3"
  },
  "language_info": {
   "codemirror_mode": {
    "name": "ipython",
    "version": 3
   },
   "file_extension": ".py",
   "mimetype": "text/x-python",
   "name": "python",
   "nbconvert_exporter": "python",
   "pygments_lexer": "ipython3",
   "version": "3.12.2"
  }
 },
 "nbformat": 4,
 "nbformat_minor": 5
}
